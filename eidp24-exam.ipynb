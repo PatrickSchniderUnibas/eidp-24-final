{
 "cells": [
  {
   "cell_type": "markdown",
   "id": "882cb365",
   "metadata": {
    "deletable": false,
    "editable": false
   },
   "source": [
    "# Einführung in die Programmierung\n",
    "## Prüfung vom 14. Januar 2025\n",
    "### Zeit: 80 Minuten"
   ]
  },
  {
   "cell_type": "markdown",
   "id": "4711f064",
   "metadata": {
    "deletable": false
   },
   "source": [
    "*Schreiben Sie in dieses Feld Ihren Vornamen, Namen und email Adresse.*"
   ]
  },
  {
   "cell_type": "markdown",
   "id": "0de914d7",
   "metadata": {
    "deletable": false,
    "editable": false
   },
   "source": [
    "## Übersetzungstool\n",
    "\n",
    "Sie dürfen das Übersetzungstool [Google Translate](https://translate.google.com) verwenden."
   ]
  }
 ],
 "metadata": {
  "celltoolbar": "Edit Metadata",
  "exercise_series": "eidp",
  "kernelspec": {
   "display_name": "Python 3",
   "language": "python",
   "name": "python3"
  },
  "language_info": {
   "codemirror_mode": {
    "name": "ipython",
    "version": 3
   },
   "file_extension": ".py",
   "mimetype": "text/x-python",
   "name": "python",
   "nbconvert_exporter": "python",
   "pygments_lexer": "ipython3",
   "version": "3.9.6"
  },
  "notebook_id": 23102,
  "toc": {
   "base_numbering": 1,
   "nav_menu": {},
   "number_sections": false,
   "sideBar": false,
   "skip_h1_title": false,
   "title_cell": "Table of Contents",
   "title_sidebar": "Contents",
   "toc_cell": false,
   "toc_position": {},
   "toc_section_display": false,
   "toc_window_display": false
  }
 },
 "nbformat": 4,
 "nbformat_minor": 5
}
