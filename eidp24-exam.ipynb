{
 "cells": [
  {
   "cell_type": "markdown",
   "id": "882cb365",
   "metadata": {
    "deletable": false,
    "editable": false
   },
   "source": [
    "# Einführung in die Programmierung\n",
    "## Prüfung vom 14. Januar 2025\n",
    "### Zeit: 80 Minuten"
   ]
  },
  {
   "cell_type": "markdown",
   "id": "4711f064",
   "metadata": {
    "deletable": false
   },
   "source": [
    "*Schreiben Sie in dieses Feld Ihren Vornamen, Namen und email Adresse.*"
   ]
  },
  {
   "cell_type": "markdown",
   "id": "0de914d7",
   "metadata": {
    "deletable": false,
    "editable": false
   },
   "source": [
    "## Übersetzungstool\n",
    "\n",
    "Sie dürfen das Übersetzungstool [Google Translate](https://translate.google.com) verwenden."
   ]
  },
  {
   "cell_type": "markdown",
   "id": "c8835b00",
   "metadata": {
    "deletable": false,
    "editable": false
   },
   "source": [
    "## Theorie (10 Punkte)"
   ]
  },
  {
   "cell_type": "markdown",
   "id": "865dfba8",
   "metadata": {
    "deletable": false,
    "editable": false
   },
   "source": [
    "### Aufgabe 1 (2 Punkte)\n",
    "\n",
    "Welche der folgenden Aussagen sind im Bezug auf den folgenden Code wahr?\n",
    "\n",
    "```python\n",
    "a = 1\n",
    "b = 1.3\n",
    "a == b\n",
    "c = \"2\"\n",
    "d = \"3\"\n",
    "e = c + d\n",
    "```\n",
    "\n",
    "1. Die Variable ```b``` ist vom Typ ```int```.\n",
    "2. Die Variable ```e``` hat den Wert ```\"23\"```.\n",
    "3. Die Zeile ```a == b``` weist der Variable ```a``` den Wert von ```b``` zu.\n",
    "4. Die Variable ```e``` ist vom Typ ```str```.\n",
    "\n",
    "Löschen Sie die Nummern der nicht zutreffenden Behauptungen in der folgenden Zelle."
   ]
  },
  {
   "cell_type": "code",
   "execution_count": null,
   "id": "db6c8933",
   "metadata": {
    "deletable": false,
    "exercise_id": 1
   },
   "outputs": [],
   "source": [
    "[1,2,3,4] "
   ]
  },
  {
   "cell_type": "markdown",
   "id": "87cd4239",
   "metadata": {
    "deletable": false,
    "editable": false
   },
   "source": [
    "### Aufgabe 2 (2 Punkte)\n",
    "\n",
    "Welche der folgenden Ausdrücke ergeben immer ```False```?\n",
    "\n",
    "1. ```a and (b or False) and False```\n",
    "2. ```not ((a or b) or False)```\n",
    "3. ```b or not b```\n",
    "4. ```not (a or True)```\n",
    "\n",
    "Löschen Sie die Nummer der Ausdrücke, die ```True``` ergeben könnten. "
   ]
  },
  {
   "cell_type": "code",
   "execution_count": null,
   "id": "2d9d18bf",
   "metadata": {
    "deletable": false,
    "exercise_id": 2
   },
   "outputs": [],
   "source": [
    "[1,2,3,4]"
   ]
  },
  {
   "cell_type": "markdown",
   "id": "e3e9dadc",
   "metadata": {
    "deletable": false,
    "editable": false
   },
   "source": [
    "### Aufgabe 3 (2 Punkte)\n",
    "\n",
    "Welche der folgenden Aussagen sind wahr?\n",
    " 1. Mit einer `for`-Schleife kann man durch alle Elemente einer Liste iterieren.\n",
    " 2. Innerhalb einer `while`-Schleife kann keine `for`-Schleife geschrieben werden.\n",
    " 3. Es wäre grundsätzlich möglich, alle Programme nur mit `while`-Schleifen zu schreiben, und nie eine `for`-Schleife zu verwenden. \n",
    " 4. Bei einer `while`-Schleife ist die Gefahr grösser, eine Endlosschleife zu bekommen.\n",
    " \n",
    "Löschen Sie die Nummern der nicht zutreffenden Behauptungen in der folgenden Zelle."
   ]
  },
  {
   "cell_type": "code",
   "execution_count": null,
   "id": "f7487246",
   "metadata": {
    "deletable": false,
    "exercise_id": 3
   },
   "outputs": [],
   "source": [
    "[1,2,3,4]"
   ]
  },
  {
   "cell_type": "markdown",
   "id": "d637308f",
   "metadata": {
    "deletable": false,
    "editable": false
   },
   "source": [
    "### Aufgabe 4 (2 Punkte)\n",
    "\n",
    "Welche der folgenden Aussagen zu Listen, Tupel und Dictionaries sind wahr?\n",
    "\n",
    " 1. Die Grösse einer Liste ist nicht veränderbar. \n",
    " 2. Die Grösse eines Tupels ist nicht veränderbar.\n",
    " 3. Zu einem Schlüssel in einem Dictionary können mehrere Werte zugeordnet werden.\n",
    " 4. Die Einträge in einer Liste können Tupel sein.\n",
    " \n",
    "Löschen Sie die Nummern der nicht zutreffenden Behauptungen in der folgenden Zelle."
   ]
  },
  {
   "cell_type": "code",
   "execution_count": null,
   "id": "d5dc49cd",
   "metadata": {
    "deletable": false,
    "exercise_id": 4
   },
   "outputs": [],
   "source": [
    "[1,2,3,4]"
   ]
  },
  {
   "cell_type": "markdown",
   "id": "6f3527a9",
   "metadata": {
    "deletable": false,
    "editable": false
   },
   "source": [
    "### Aufgabe 5 (2 Punkte)\n",
    "\n",
    "Welche der folgenden Aussagen zu folgendem Code sind wahr?\n",
    "\n",
    "```python\n",
    "a = 1\n",
    "def foo(a):\n",
    "    a = 3\n",
    "    b = 7\n",
    "    print(a + b)\n",
    "print(a)\n",
    "```\n",
    "\n",
    " 1. Auf die Variable `b` darf nur innerhalb der Prozedur `foo` zugegriffen werden.\n",
    " 2. Die Prozedur `foo` gibt immer `10` aus.\n",
    " 3. Die letzte `print` Anweisung gibt den Wert `3` aus.\n",
    " 4. Das Programm funktioniert so nicht, da die Variable `a` zweimal definiert ist. \n",
    " \n",
    "Löschen Sie die Nummern der nicht zutreffenden Behauptungen in der folgenden Zelle."
   ]
  },
  {
   "cell_type": "code",
   "execution_count": null,
   "id": "25e85f56",
   "metadata": {
    "deletable": false,
    "exercise_id": 5
   },
   "outputs": [],
   "source": [
    "[1,2,3,4]"
   ]
  },
  {
   "cell_type": "markdown",
   "id": "2e774137",
   "metadata": {
    "deletable": false,
    "editable": false
   },
   "source": [
    "## Code lesen, verstehen und verändern (6 Punkte)"
   ]
  },
  {
   "cell_type": "markdown",
   "id": "b62746d7",
   "metadata": {
    "deletable": false,
    "editable": false
   },
   "source": [
    "### Aufgabe 6 (2 Punkte)\n",
    "\n",
    "Gegeben ist die Funktion `mystery`. Beantworten Sie folgende Fragen:\n",
    "* Geben Sie für jedes der Argumente dieser Funktion einen Datentyp an, für den der Code funktioniert?\n",
    "* Was macht die Funktion (in einem Satz zusammengefasst)."
   ]
  },
  {
   "cell_type": "code",
   "execution_count": null,
   "id": "81dc9071",
   "metadata": {
    "deletable": false
   },
   "outputs": [],
   "source": [
    "def mystery(a, b):\n",
    "    c = []\n",
    "    for x in a:\n",
    "        if x > b:\n",
    "            c.append(x)\n",
    "    return c\n"
   ]
  },
  {
   "cell_type": "markdown",
   "id": "352fe7f1",
   "metadata": {
    "deletable": false,
    "exercise_id": 6
   },
   "source": [
    "* Ihre Antwort zur ersten Frage\n",
    "* Ihre Antwort zur zweiten Frage"
   ]
  },
  {
   "cell_type": "markdown",
   "id": "69ae13f9",
   "metadata": {
    "deletable": false,
    "editable": false,
    "slideshow": {
     "slide_type": "subslide"
    }
   },
   "source": [
    "### Aufgabe 7 (2 Punkte)\n",
    "\n",
    "Der folgende Code soll überprüfen, ob in einer Liste von Zahlen eine negative Zahl vorkommt. Leider hat sich bei der Implementation ein Fehler eingeschlichen. Ihre Aufgabe ist es, diesen Fehler zu finden. \n",
    "\n",
    "* Geben Sie ein Beispiel für einen Funktionsaufruf (also Werte für die Parameter), bei dem der Fehler Auftritt.\n",
    "* Beschreiben Sie, was das Problem ist. "
   ]
  },
  {
   "cell_type": "code",
   "execution_count": null,
   "id": "661252f6",
   "metadata": {
    "deletable": false
   },
   "outputs": [],
   "source": [
    "def contains_negative_number(lst):\n",
    "    index = 0\n",
    "    while index <= len(lst):\n",
    "        if lst[index] < 0:\n",
    "            return True\n",
    "        index = index + 1\n",
    "    return False"
   ]
  },
  {
   "cell_type": "markdown",
   "id": "c3e3898d",
   "metadata": {
    "deletable": false,
    "exercise_id": 7
   },
   "source": [
    "* Ihr Beispiel für einen Aufruf der zum Fehler führt\n",
    "* Beschreibung des Problems"
   ]
  },
  {
   "cell_type": "markdown",
   "id": "a32c15e8",
   "metadata": {
    "deletable": false,
    "editable": false
   },
   "source": [
    "### Aufgabe 8: Code anpassen (2 Punkte)\n",
    "\n",
    "Der folgende Code nimmt eine Liste `l` von Zahlen sowie eine weitere Zahl `n` entgegen und addiert `n` zu allen Zahlen in der Liste. Leider wird dabei die übergebene Liste selbst verändert. Passen Sie den Code so an, dass die übergebene Liste nicht verändert wird, sondern eine neue Liste zurückgegeben wird.\n",
    "\n",
    "```python\n",
    "def add_everywhere(l, n):    \n",
    "    for i in range(len(l)):\n",
    "        l[i] = l[i] + n\n",
    "    return l\n",
    "```"
   ]
  },
  {
   "cell_type": "code",
   "execution_count": null,
   "id": "d1aea8b4",
   "metadata": {
    "deletable": false,
    "exercise_id": 8
   },
   "outputs": [],
   "source": [
    "def add_everywhere(l, n):    \n",
    "    for i in range(len(l)):\n",
    "        l[i] = l[i] + n\n",
    "    return l"
   ]
  },
  {
   "cell_type": "markdown",
   "id": "9bc88797",
   "metadata": {
    "deletable": false,
    "editable": false
   },
   "source": [
    "## Programmieraufgaben (24 Punkte)"
   ]
  },
  {
   "cell_type": "markdown",
   "id": "2d0f10f6",
   "metadata": {
    "deletable": false,
    "editable": false
   },
   "source": [
    "### Aufgabe 9 (3 Punkte)\n",
    "\n",
    "Schreiben Sie eine Funktion ```divisible```, welche als Argumente eine Zahl ```hi``` und eine Zahl ```div``` entgegennimmt, und dann die Summe aller ganzen Zahlen im Interval ```[1, hi]``` (inklusive ```1``` und ```hi```), die durch ```div``` teilbar sind berechnet und das Resultat zurückgibt. Als Beispiel soll der Aufruf ```divisible(9, 3)``` das Resultat ```18``` zurückgeben, da $3+6+9=18$."
   ]
  },
  {
   "cell_type": "code",
   "execution_count": null,
   "id": "73e8dc83",
   "metadata": {
    "deletable": false,
    "exercise_id": 9
   },
   "outputs": [],
   "source": [
    "# Ihre Lösung"
   ]
  },
  {
   "cell_type": "markdown",
   "id": "241f63ee",
   "metadata": {
    "deletable": false,
    "editable": false
   },
   "source": [
    "### Aufgabe 10 (3 Punkte)\n",
    "\n",
    "Schreiben Sie eine Funktion ```double``` welche eine Liste von Strings als Argument entgegennimmt, und eine \"verdoppelte\" Liste zurückgibt, in der alle Strings zweimal vorkommen. Als Beispiel soll aus der Liste ```[\"foo\", \"bar\"]``` die Liste ```[\"foo\", \"foo\", \"bar\", \"bar\"]``` erzeugt werden. "
   ]
  },
  {
   "cell_type": "code",
   "execution_count": null,
   "id": "0f12fcb3",
   "metadata": {
    "deletable": false,
    "exercise_id": 10
   },
   "outputs": [],
   "source": [
    "# Ihre Lösung"
   ]
  },
  {
   "cell_type": "markdown",
   "id": "da02e27a",
   "metadata": {
    "deletable": false,
    "editable": false
   },
   "source": [
    "### Aufgabe 11 (3 Punkte)\n",
    "\n",
    "Schreiben Sie eine Funktion `should_i_do_it`, welche drei Argumente entgegennimmt: Die boolschen Parameter\n",
    "`is_windy` und `is_sunny`, sowie eine Variable `activity` (vom Typ String) welcher die Werte `\"wind_surfing\"` und `\"sunbathing\"` annehmen kann. Die Methode soll `True` zurückgeben, wenn die Person der übergebenen Aktivität nachgehen soll. Dabei geht Windsurfen bei jedem Wetter, hauptsache es ist windig. Sonnenbaden geht nur, wenn es sowohl sonnig als auch windstill ist. "
   ]
  },
  {
   "cell_type": "code",
   "execution_count": null,
   "id": "c39707f1",
   "metadata": {
    "deletable": false,
    "exercise_id": 11
   },
   "outputs": [],
   "source": [
    "# Ihre Lösung"
   ]
  },
  {
   "cell_type": "markdown",
   "id": "8b01d7cf",
   "metadata": {
    "deletable": false,
    "editable": false
   },
   "source": [
    "### Aufgabe 12 (3 Punkte)\n",
    "\n",
    "Schreiben Sie eine Funktion `min_max` welche eine Liste von Zahlen als Argument entgegennimmt und ein Tupel zurückgibt, welches das kleinste und grösste Element in der Liste enthält. Falls die Liste leer ist, soll `None` zurückgegeben werden.\n",
    "\n",
    "\n"
   ]
  },
  {
   "cell_type": "code",
   "execution_count": null,
   "id": "192144c5",
   "metadata": {
    "deletable": false,
    "exercise_id": 12
   },
   "outputs": [],
   "source": [
    "# Ihre Lösung"
   ]
  },
  {
   "cell_type": "markdown",
   "id": "ac73402a",
   "metadata": {
    "deletable": false,
    "editable": false
   },
   "source": [
    "### Aufgabe 13 (3 Punkte)\n",
    "\n",
    "Schreiben Sie eine rekursive Funktion `fibonacci`, welche als Argument eine ganze Zahl ```n``` erhält und die ```n```'te Fibonacci-Zahl $f_n$ zurückgibt. Die Fibonacci-Zahlen sind wie folgt definiert:\n",
    "\n",
    "* $f_0 = 1$\n",
    "* $f_1 = 1$\n",
    "* $f_k = f_{k-1} + f_{k-2}$"
   ]
  },
  {
   "cell_type": "code",
   "execution_count": null,
   "id": "7f2537a1",
   "metadata": {
    "deletable": false,
    "exercise_id": 13
   },
   "outputs": [],
   "source": [
    "# Ihre Lösung"
   ]
  },
  {
   "cell_type": "markdown",
   "id": "415e9981",
   "metadata": {
    "deletable": false,
    "editable": false
   },
   "source": [
    "### Aufgabe 14 (3 Punkte)\n",
    "\n",
    "Schreiben Sie eine Funktion ```longest_word```, welche als Argument einen String mit einem Satz entgegennimmt und das längste Wort in diesem Satz findet und zurückgibt. Wenn mehrere Wörter die gleiche Länge haben, soll das erste zurückgegeben werden.\n",
    "\n",
    "Als Beispiel soll die Funktion für den Satz ```\"Der schnelle braune Fuchs\"``` das Wort ```\"schnelle\"``` zurückgeben.\n"
   ]
  },
  {
   "cell_type": "code",
   "execution_count": null,
   "id": "a7a83fa4",
   "metadata": {
    "deletable": false,
    "exercise_id": 14
   },
   "outputs": [],
   "source": [
    "# Ihre Lösung"
   ]
  },
  {
   "cell_type": "markdown",
   "id": "0705c60f",
   "metadata": {
    "deletable": false,
    "editable": false
   },
   "source": [
    "\n",
    "### Aufgabe 15 (6 Punkte)\n",
    "\n",
    "Sie müssen eine Anwendung für einen Chor erstellen. Dabei sollen für jedes Chormitglied der Name, die Stimmlage (Sopran, Alt, Tenor oder Bass) sowie das Alter gespeichert werden.\n",
    "\n",
    "* Schreiben Sie eine Klasse `Member`. Die Klasse repräsentiert ein Chormitglied und enthält die Attribute `name, voice_type, age`.\n",
    "* Schreiben Sie dann eine Klasse `Choir`. Diese soll die Mitgliederliste des Chors managen können. Implementieren Sie die Methoden `add_member`, welche ein neues Chormitglied hinzufügt, sowie die Methode `number_of`, welche eine Stimmlage (als String) entgegennimmt und zurückgibt, wieviele Mitglieder des Chors diese Stimmlage haben. Wenn der Methode ein String übergeben wird, der nicht einer der vier Stimmlagen entspricht, soll der Satz \"Eingabe keine Stimmlage\" ausgegeben werden.\n",
    "* Testen Sie Ihr Programm, indem Sie mindestens 3 Chormitglieder erstellen und einem Chor hinzufügen und dann mindestens einmal die Methode `number_of` aufrufen.\n",
    " "
   ]
  },
  {
   "cell_type": "code",
   "execution_count": null,
   "id": "8e8e09ce",
   "metadata": {
    "deletable": false,
    "exercise_id": 15
   },
   "outputs": [],
   "source": [
    "# Ihre Lösung"
   ]
  }
 ],
 "metadata": {
  "celltoolbar": "Edit Metadata",
  "exercise_series": "eidp",
  "kernelspec": {
   "display_name": "Python 3",
   "language": "python",
   "name": "python3"
  },
  "language_info": {
   "codemirror_mode": {
    "name": "ipython",
    "version": 3
   },
   "file_extension": ".py",
   "mimetype": "text/x-python",
   "name": "python",
   "nbconvert_exporter": "python",
   "pygments_lexer": "ipython3",
   "version": "3.9.6"
  },
  "notebook_id": 23102,
  "toc": {
   "base_numbering": 1,
   "nav_menu": {},
   "number_sections": false,
   "sideBar": false,
   "skip_h1_title": false,
   "title_cell": "Table of Contents",
   "title_sidebar": "Contents",
   "toc_cell": false,
   "toc_position": {},
   "toc_section_display": false,
   "toc_window_display": false
  }
 },
 "nbformat": 4,
 "nbformat_minor": 5
}
