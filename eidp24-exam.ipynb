{
 "cells": [
  {
   "cell_type": "markdown",
   "id": "882cb365",
   "metadata": {
    "deletable": false,
    "editable": false
   },
   "source": [
    "# Einführung in die Programmierung\n",
    "## Prüfung vom 15. Januar 2025\n",
    "### Zeit: 80 Minuten"
   ]
  },
  {
   "cell_type": "markdown",
   "id": "4711f064",
   "metadata": {
    "deletable": false
   },
   "source": [
    "*Schreiben Sie in dieses Feld Ihren Vornamen, Namen und email Adresse.*"
   ]
  },
  {
   "cell_type": "markdown",
   "id": "0de914d7",
   "metadata": {
    "deletable": false,
    "editable": false
   },
   "source": [
    "## Übersetzungstool\n",
    "\n",
    "Sie dürfen das Übersetzungstool [Google Translate](https://translate.google.com) verwenden."
   ]
  },
  {
   "cell_type": "markdown",
   "id": "c8835b00",
   "metadata": {
    "deletable": false,
    "editable": false
   },
   "source": [
    "## Theorie (10 Punkte)"
   ]
  },
  {
   "cell_type": "markdown",
   "id": "865dfba8",
   "metadata": {
    "deletable": false,
    "editable": false
   },
   "source": [
    "### Aufgabe 1 (2 Punkte)\n",
    "\n",
    "Welche der folgenden Aussagen sind wahr?\n",
    "\n",
    "1. Der Datentyp `int` ist für die Darstellung von reellen Zahlen gedacht.\n",
    "2. Der Datentyp `bool` kann nur die Werte `True` oder `False` haben.\n",
    "3. Der Datentyp `str` kann sowohl Zahlen als auch Buchstaben enthalten.\n",
    "4. Wenn `a` von Typ `int` und `b` vom Typ `float` ist ist der Ausdruck `a + b` nicht zulässig.\n",
    "\n",
    "Löschen Sie die Nummern der nicht zutreffenden Behauptungen in folgender Zelle."
   ]
  },
  {
   "cell_type": "code",
   "execution_count": null,
   "id": "db6c8933",
   "metadata": {
    "deletable": false,
    "exercise_id": 1
   },
   "outputs": [],
   "source": [
    "[1,2,3,4] "
   ]
  },
  {
   "cell_type": "markdown",
   "id": "87cd4239",
   "metadata": {
    "deletable": false,
    "editable": false
   },
   "source": [
    "### Aufgabe 2 (2 Punkte)\n",
    "\n",
    "Welche der folgenden Ausdrücke ergeben immer ```True```?\n",
    "\n",
    "1. ```a and (b or True) and False```\n",
    "2. ```not ((a or b) and False)```\n",
    "3. ```b or not b```\n",
    "4. ```not (a or True)```\n",
    "\n",
    "Löschen Sie die Nummer der Ausdrücke, die ```False``` ergeben könnten. "
   ]
  },
  {
   "cell_type": "code",
   "execution_count": null,
   "id": "2d9d18bf",
   "metadata": {
    "deletable": false,
    "exercise_id": 2
   },
   "outputs": [],
   "source": [
    "[1,2,3,4]"
   ]
  },
  {
   "cell_type": "markdown",
   "id": "e3e9dadc",
   "metadata": {
    "deletable": false,
    "editable": false
   },
   "source": [
    "### Aufgabe 3 (2 Punkte)\n",
    "\n",
    "Welche der folgenden Aussagen sind wahr?\n",
    " 1. Mit einer `while`-Schleife kann eine Endlosschleife erzeugt werden.\n",
    " 2. Mit einer `for`-Schleife kann man nur durch Zahlen iterieren.\n",
    " 3. Mit `for i in range(3)` iteriert man durch die Zahlen 1, 2 und 3.\n",
    " 4. Eine `while`-Schleife wird immer mindestens einmal ausgeführt.\n",
    " \n",
    "Löschen Sie die Nummern der nicht zutreffenden Behauptungen in der folgenden Zelle."
   ]
  },
  {
   "cell_type": "code",
   "execution_count": null,
   "id": "f7487246",
   "metadata": {
    "deletable": false,
    "exercise_id": 3
   },
   "outputs": [],
   "source": [
    "[1,2,3,4]"
   ]
  },
  {
   "cell_type": "markdown",
   "id": "d637308f",
   "metadata": {
    "deletable": false,
    "editable": false
   },
   "source": [
    "### Aufgabe 4 (2 Punkte)\n",
    "\n",
    "Welche der folgenden Aussagen zu folgendem Code sind wahr?\n",
    "\n",
    "```python\n",
    "a = [\"first\", 1, \"second\", 2]\n",
    "b = (\"first\", \"second\")\n",
    "c = {\"first\":b}\n",
    "```\n",
    "\n",
    " 1. `a` ist eine Liste.\n",
    " 2. `b`ist ein Tupel.\n",
    " 3. Die Anweisung `b.append(\"third\")` ist zulässig.\n",
    " 4. `c.values` hat nur ein Element. \n",
    " \n",
    "Löschen Sie die Nummern der nicht zutreffenden Behauptungen in der folgenden Zelle."
   ]
  },
  {
   "cell_type": "code",
   "execution_count": null,
   "id": "d5dc49cd",
   "metadata": {
    "deletable": false,
    "exercise_id": 4
   },
   "outputs": [],
   "source": [
    "[1,2,3,4]"
   ]
  },
  {
   "cell_type": "markdown",
   "id": "6f3527a9",
   "metadata": {
    "deletable": false,
    "editable": false
   },
   "source": [
    "### Aufgabe 5 (2 Punkte)\n",
    "\n",
    "Welche der folgenden Aussagen sind wahr?\n",
    " 1. Eine Klasse kann nur Attribute von den Typen `bool`, `char`, `str`, `int` und `float` enthalten.\n",
    " 2. Beim Erstellen eines Objekts einer Klasse, wird die Funktion `__init__` aufgerufen.\n",
    " 3. Um zwei Objekte einer Klasse mit `==` auf Gleichheit zu prüfen, muss in der Klasse die Funktion `__eq__` geschrieben werden.\n",
    " 4. Instanzmethoden einer Klasse müssen immer das Schlüsselwort `self` als ersten Parameter haben.\n",
    " \n",
    "Löschen Sie die Nummern der nicht zutreffenden Behauptungen in der folgenden Zelle."
   ]
  },
  {
   "cell_type": "code",
   "execution_count": null,
   "id": "25e85f56",
   "metadata": {
    "deletable": false,
    "exercise_id": 5
   },
   "outputs": [],
   "source": [
    "[1,2,3,4]"
   ]
  },
  {
   "cell_type": "markdown",
   "id": "2e774137",
   "metadata": {
    "deletable": false,
    "editable": false
   },
   "source": [
    "## Code lesen, verstehen und verändern (6 Punkte)"
   ]
  },
  {
   "cell_type": "markdown",
   "id": "b62746d7",
   "metadata": {
    "deletable": false,
    "editable": false
   },
   "source": [
    "### Aufgabe 6 (2 Punkte)\n",
    "\n",
    "Gegeben ist die Funktion `mystery`. Beantworten Sie folgende Fragen:\n",
    "* Geben Sie für jedes der Argumente dieser Funktion einen Datentyp an, für den der Code funktioniert?\n",
    "* Was macht die Funktion (in einem Satz zusammengefasst)."
   ]
  },
  {
   "cell_type": "code",
   "execution_count": null,
   "id": "81dc9071",
   "metadata": {
    "deletable": false
   },
   "outputs": [],
   "source": [
    "def mystery(a, b):\n",
    "    c = 0\n",
    "    for x in a:\n",
    "        if x:\n",
    "            c = c + 1\n",
    "    if c >= b:\n",
    "        return True\n",
    "    else:\n",
    "        return False\n"
   ]
  },
  {
   "cell_type": "markdown",
   "id": "352fe7f1",
   "metadata": {
    "deletable": false,
    "exercise_id": 6
   },
   "source": [
    "* Ihre Antwort zur ersten Frage\n",
    "* Ihre Antwort zur zweiten Frage"
   ]
  },
  {
   "cell_type": "markdown",
   "id": "69ae13f9",
   "metadata": {
    "deletable": false,
    "editable": false,
    "slideshow": {
     "slide_type": "subslide"
    }
   },
   "source": [
    "### Aufgabe 7 (2 Punkte)\n",
    "\n",
    "Der folgende Code soll das längste Wort in einer Liste von Wörtern zurückgeben. Leider hat sich bei der Implementation ein Fehler eingeschlichen. Ihre Aufgabe ist es, diesen Fehler zu finden. \n",
    "\n",
    "* Geben Sie ein Beispiel für einen Funktionsaufruf (also Werte für die Parameter), bei dem der Fehler Auftritt.\n",
    "* Beschreiben Sie, was das Problem ist. "
   ]
  },
  {
   "cell_type": "code",
   "execution_count": null,
   "id": "661252f6",
   "metadata": {
    "deletable": false
   },
   "outputs": [],
   "source": [
    "def longest_word(lst):\n",
    "    longest = lst[0]\n",
    "    for word in lst:\n",
    "        if len(word) > len(longest):\n",
    "            longest = word\n",
    "    return longest"
   ]
  },
  {
   "cell_type": "markdown",
   "id": "c3e3898d",
   "metadata": {
    "deletable": false,
    "exercise_id": 7
   },
   "source": [
    "* Ihr Beispiel für einen Aufruf der zum Fehler führt\n",
    "* Beschreibung des Problems"
   ]
  },
  {
   "cell_type": "markdown",
   "id": "a32c15e8",
   "metadata": {
    "deletable": false,
    "editable": false
   },
   "source": [
    "### Aufgabe 8: Code anpassen (2 Punkte)\n",
    "\n",
    "Der folgende Code nimmt eine Liste `l` von Zahlen sowie eine weitere Zahl `n` entgegen und gibt alle Zahlen in `l` aus, die grösser sind als `n`. Leider können wir mit diesen Zahlen nicht weiterarbeiten. Passen Sie den Code so an, dass die Zahlen nicht nur ausgegeben, sondern als neue Liste zurückgegeben werden. \n",
    "\n",
    "```python\n",
    "def larger_numbers(l, n):    \n",
    "    for i in l:\n",
    "        if i > n:\n",
    "            print(i)\n",
    "```"
   ]
  },
  {
   "cell_type": "code",
   "execution_count": null,
   "id": "d1aea8b4",
   "metadata": {
    "deletable": false,
    "exercise_id": 8
   },
   "outputs": [],
   "source": [
    "def larger_numbers(l, n):    \n",
    "    for i in l:\n",
    "        if i > n:\n",
    "            print(i)"
   ]
  },
  {
   "cell_type": "markdown",
   "id": "9bc88797",
   "metadata": {
    "deletable": false,
    "editable": false
   },
   "source": [
    "## Programmieraufgaben (24 Punkte)"
   ]
  },
  {
   "cell_type": "markdown",
   "id": "2d0f10f6",
   "metadata": {
    "deletable": false,
    "editable": false
   },
   "source": [
    "### Aufgabe 9 (3 Punkte)\n",
    "\n",
    "Schreiben Sie eine Funktion ```odd_sum```, welche als Argumente eine Zahl ```lo``` und eine Zahl ```hi``` entgegennimmt, und dann die Summe aller ungeraden Zahlen im Interval ```[lo, hi]``` (inklusive ```lo``` und ```hi```) berechnet und das Resultat zurückgibt. Als Beispiel soll der Aufruf ```odd_sum(2, 5)``` das Resultat ```8``` zurückgeben, da $3+5=8$."
   ]
  },
  {
   "cell_type": "code",
   "execution_count": null,
   "id": "73e8dc83",
   "metadata": {
    "deletable": false,
    "exercise_id": 9
   },
   "outputs": [],
   "source": [
    "# Ihre Lösung"
   ]
  },
  {
   "cell_type": "markdown",
   "id": "241f63ee",
   "metadata": {
    "deletable": false,
    "editable": false
   },
   "source": [
    "### Aufgabe 10 (3 Punkte)\n",
    "\n",
    "Schreiben Sie eine Funktion ```unpack``` welche eine Liste von Tupeln mit 2 Einträgen als Argument entgegennimmt, und diese in eine \"flache\" Liste schreibt. Als Beispiel soll aus der Liste ```[(3, 4), (1, 7), (0, 0)]``` die Liste ```[3, 4, 1, 7, 0, 0]``` erzeugt werden. "
   ]
  },
  {
   "cell_type": "code",
   "execution_count": null,
   "id": "0f12fcb3",
   "metadata": {
    "deletable": false,
    "exercise_id": 10
   },
   "outputs": [],
   "source": [
    "# Ihre Lösung"
   ]
  },
  {
   "cell_type": "markdown",
   "id": "da02e27a",
   "metadata": {
    "deletable": false,
    "editable": false
   },
   "source": [
    "### Aufgabe 11 (3 Punkte)\n",
    "\n",
    "Schreiben Sie eine Funktion `should_i_do_it`, welche drei Argumente entgegennimmt: Die boolschen Parameter\n",
    "`is_windy` und `is_sunny`, sowie eine Variable `activity` (vom Typ String) welcher die Werte `\"wind_surfing\"` und `\"sunbathing\"` annehmen kann. Die Methode soll `True` zurückgeben, wenn die Person der übergebenen Aktivität nachgehen soll. Dabei geht Windsurfen bei jedem Wetter, hauptsache es ist windig. Sonnenbaden geht nur, wenn es sowohl sonnig als auch windstill ist."
   ]
  },
  {
   "cell_type": "code",
   "execution_count": null,
   "id": "c39707f1",
   "metadata": {
    "deletable": false,
    "exercise_id": 11
   },
   "outputs": [],
   "source": [
    "# Ihre Lösung"
   ]
  },
  {
   "cell_type": "markdown",
   "id": "8b01d7cf",
   "metadata": {
    "deletable": false,
    "editable": false
   },
   "source": [
    "### Aufgabe 12 (3 Punkte)\n",
    "\n",
    "Schreiben Sie eine Funktion `words_with_a` welche eine Liste von Strings als Argument entgegennimmt und zurückgibt, wieviele der Strings in der Liste den Buchstaben `a` enthalten.\n",
    "\n",
    "\n"
   ]
  },
  {
   "cell_type": "code",
   "execution_count": null,
   "id": "192144c5",
   "metadata": {
    "deletable": false,
    "exercise_id": 12
   },
   "outputs": [],
   "source": [
    "# Ihre Lösung"
   ]
  },
  {
   "cell_type": "markdown",
   "id": "ac73402a",
   "metadata": {
    "deletable": false,
    "editable": false
   },
   "source": [
    "### Aufgabe 13 (3 Punkte)\n",
    "\n",
    "Schreiben Sie eine rekursive Funktion `rec_power`, welche als Argument zwei positive ganze Zahlen `a` und `b` erhält und die Potenz $a^b$ berechnet und zurückgibt."
   ]
  },
  {
   "cell_type": "code",
   "execution_count": null,
   "id": "7f2537a1",
   "metadata": {
    "deletable": false,
    "exercise_id": 13
   },
   "outputs": [],
   "source": [
    "# Ihre Lösung"
   ]
  },
  {
   "cell_type": "markdown",
   "id": "415e9981",
   "metadata": {
    "deletable": false,
    "editable": false
   },
   "source": [
    "### Aufgabe 14 (3 Punkte)\n",
    "\n",
    "Schreiben Sie eine Funktion ```subsequence```, welche als Argument eine Liste von Zahlen entgegennimmt und die Länge der längsten aufsteigenden Sequenz in dieser Liste zurückgibt. Eine aufsteigende Sequenz in einer Liste `l` von Zahlen sind aufeinanderfolgende Indizes `i`, `i+1`,..., `k` so dass `l[i]`$\\leq$`l[i+1]`$\\leq$...$\\leq$`l[k]`.\n",
    "\n",
    "Als Beispiel soll die Funktion für die Liste `[1, 2, 3, 0, 4, 1, 2, 3, 5, 3]` die Länge `4` zurückgeben, da `[1, 2, 3, 5]` die längste aufsteigende Teilsequenz ist.\n"
   ]
  },
  {
   "cell_type": "code",
   "execution_count": null,
   "id": "a7a83fa4",
   "metadata": {
    "deletable": false,
    "exercise_id": 14
   },
   "outputs": [],
   "source": [
    "# Ihre Lösung"
   ]
  },
  {
   "cell_type": "markdown",
   "id": "0705c60f",
   "metadata": {
    "deletable": false,
    "editable": false
   },
   "source": [
    "\n",
    "### Aufgabe 15 (6 Punkte)\n",
    "\n",
    "Sie müssen eine Anwendung für ein Fussball-Team erstellen. Dabei sollen für jedes Teammitglied der Name, die Position (Sturm, Mittelfeld, Verteidigung oder Tor) sowie die Rückennummer gespeichert werden.\n",
    "\n",
    "* Schreiben Sie eine Klasse `Player`. Die Klasse repräsentiert ein Teammitglied und enthält die Attribute `name, position, number`.\n",
    "* Schreiben Sie dann eine Klasse `Team`. Diese soll die Mitgliederliste des Teams managen können. Implementieren Sie die Methoden `add_member`, welche ein neues Teammitglied hinzufügt, sowie die Methode `number_of`, welche eine Position (als String) entgegennimmt und zurückgibt, wieviele Mitglieder des Teams auf dieser Position spielen. Wenn der Methode ein String übergeben wird, der nicht einer der vier Positionen entspricht, soll der Satz \"Eingabe keine Position\" ausgegeben werden.\n",
    "* Testen Sie Ihr Programm, indem Sie mindestens 3 Teammitglieder erstellen und einem Team hinzufügen und dann mindestens einmal die Methode `number_of` aufrufen.\n",
    " "
   ]
  },
  {
   "cell_type": "code",
   "execution_count": null,
   "id": "8e8e09ce",
   "metadata": {
    "deletable": false,
    "exercise_id": 15
   },
   "outputs": [],
   "source": [
    "# Ihre Lösung"
   ]
  }
 ],
 "metadata": {
  "celltoolbar": "Edit Metadata",
  "exercise_series": "eidp",
  "kernelspec": {
   "display_name": "Python 3",
   "language": "python",
   "name": "python3"
  },
  "language_info": {
   "codemirror_mode": {
    "name": "ipython",
    "version": 3
   },
   "file_extension": ".py",
   "mimetype": "text/x-python",
   "name": "python",
   "nbconvert_exporter": "python",
   "pygments_lexer": "ipython3",
   "version": "3.9.6"
  },
  "notebook_id": 23102,
  "toc": {
   "base_numbering": 1,
   "nav_menu": {},
   "number_sections": false,
   "sideBar": false,
   "skip_h1_title": false,
   "title_cell": "Table of Contents",
   "title_sidebar": "Contents",
   "toc_cell": false,
   "toc_position": {},
   "toc_section_display": false,
   "toc_window_display": false
  }
 },
 "nbformat": 4,
 "nbformat_minor": 5
}
